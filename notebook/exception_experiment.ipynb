{
 "cells": [
  {
   "cell_type": "code",
   "execution_count": 1,
   "id": "4df5a17b",
   "metadata": {},
   "outputs": [],
   "source": [
    "import sys\n",
    "import traceback"
   ]
  },
  {
   "cell_type": "code",
   "execution_count": 4,
   "id": "41ff7eb4",
   "metadata": {},
   "outputs": [],
   "source": [
    "from logger.custom_logger import CustomLogger"
   ]
  },
  {
   "cell_type": "code",
   "execution_count": 6,
   "id": "47e5cfa8",
   "metadata": {},
   "outputs": [
    {
     "data": {
      "text/plain": [
       "'__main__'"
      ]
     },
     "execution_count": 6,
     "metadata": {},
     "output_type": "execute_result"
    }
   ],
   "source": [
    "__name__"
   ]
  },
  {
   "cell_type": "code",
   "execution_count": 9,
   "id": "6bc0db41",
   "metadata": {},
   "outputs": [],
   "source": [
    "logger = CustomLogger().get_logger(\"exception_experiment\")"
   ]
  },
  {
   "cell_type": "code",
   "execution_count": null,
   "id": "6b4c5ed5",
   "metadata": {},
   "outputs": [
    {
     "ename": "DocumentPortalException",
     "evalue": "\n        Error in [C:\\Users\\shubh\\AppData\\Local\\Temp\\ipykernel_24968\\54121709.py] at line [22]\n        Message: division by zero\n        Traceback: Traceback (most recent call last):\n  File \"C:\\Users\\shubh\\AppData\\Local\\Temp\\ipykernel_24968\\54121709.py\", line 22, in <module>\n    a = 1 / 0\nZeroDivisionError: division by zero\n\n        ",
     "output_type": "error",
     "traceback": [
      "\u001b[1;31m---------------------------------------------------------------------------\u001b[0m",
      "\u001b[1;31mZeroDivisionError\u001b[0m                         Traceback (most recent call last)",
      "Cell \u001b[1;32mIn[10], line 22\u001b[0m\n\u001b[0;32m     20\u001b[0m \u001b[38;5;28;01mtry\u001b[39;00m:\n\u001b[0;32m     21\u001b[0m     \u001b[38;5;66;03m# simulating an error\u001b[39;00m\n\u001b[1;32m---> 22\u001b[0m     a \u001b[38;5;241m=\u001b[39m \u001b[38;5;241;43m1\u001b[39;49m\u001b[43m \u001b[49m\u001b[38;5;241;43m/\u001b[39;49m\u001b[43m \u001b[49m\u001b[38;5;241;43m0\u001b[39;49m\n\u001b[0;32m     23\u001b[0m     \u001b[38;5;28mprint\u001b[39m(a)\n",
      "\u001b[1;31mZeroDivisionError\u001b[0m: division by zero",
      "\nDuring handling of the above exception, another exception occurred:\n",
      "\u001b[1;31mDocumentPortalException\u001b[0m                   Traceback (most recent call last)",
      "Cell \u001b[1;32mIn[10], line 27\u001b[0m\n\u001b[0;32m     25\u001b[0m app_exec \u001b[38;5;241m=\u001b[39m DocumentPortalException(e, sys)\n\u001b[0;32m     26\u001b[0m logger\u001b[38;5;241m.\u001b[39merror(app_exec)\n\u001b[1;32m---> 27\u001b[0m \u001b[38;5;28;01mraise\u001b[39;00m app_exec\n",
      "\u001b[1;31mDocumentPortalException\u001b[0m: \n        Error in [C:\\Users\\shubh\\AppData\\Local\\Temp\\ipykernel_24968\\54121709.py] at line [22]\n        Message: division by zero\n        Traceback: Traceback (most recent call last):\n  File \"C:\\Users\\shubh\\AppData\\Local\\Temp\\ipykernel_24968\\54121709.py\", line 22, in <module>\n    a = 1 / 0\nZeroDivisionError: division by zero\n\n        "
     ]
    }
   ],
   "source": [
    "class DocumentPortalException(Exception):\n",
    "    \"\"\"Custom Exception for document portal\"\"\"\n",
    "\n",
    "    def __init__(self, error_message: str, error_details: sys):\n",
    "        _, _, exc_tb = error_details.exc_info()\n",
    "        self.file_name = exc_tb.tb_frame.f_code.co_filename\n",
    "        self.line_no = exc_tb.tb_lineno\n",
    "        self.error_message = str(error_message)\n",
    "        self.traceback_str = \"\".join(\n",
    "            traceback.format_exception(*error_details.exc_info())\n",
    "        )\n",
    "\n",
    "    def __str__(self):\n",
    "        return f\"\"\"\n",
    "        Error in [{self.file_name}] at line [{self.line_no}]\n",
    "        Message: {self.error_message}\n",
    "        Traceback: {self.traceback_str}\n",
    "        \"\"\"\n",
    "\n",
    "\n",
    "if __name__ == \"__main__\":\n",
    "    try:\n",
    "        # simulating an error\n",
    "        a = 1 / 0\n",
    "        print(a)\n",
    "    except Exception as e:\n",
    "        app_exec = DocumentPortalException(e, sys)\n",
    "        logger.error(app_exec)\n",
    "        raise app_exec"
   ]
  },
  {
   "cell_type": "code",
   "execution_count": null,
   "id": "96b73baf",
   "metadata": {},
   "outputs": [],
   "source": []
  }
 ],
 "metadata": {
  "kernelspec": {
   "display_name": ".venv",
   "language": "python",
   "name": "python3"
  },
  "language_info": {
   "codemirror_mode": {
    "name": "ipython",
    "version": 3
   },
   "file_extension": ".py",
   "mimetype": "text/x-python",
   "name": "python",
   "nbconvert_exporter": "python",
   "pygments_lexer": "ipython3",
   "version": "3.10.11"
  }
 },
 "nbformat": 4,
 "nbformat_minor": 5
}
